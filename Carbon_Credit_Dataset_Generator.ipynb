{
  "cells": [
    {
      "cell_type": "markdown",
      "metadata": {
        "id": "view-in-github",
        "colab_type": "text"
      },
      "source": [
        "<a href=\"https://colab.research.google.com/github/ynakenya/dataset/blob/main/Carbon_Credit_Dataset_Generator.ipynb\" target=\"_parent\"><img src=\"https://colab.research.google.com/assets/colab-badge.svg\" alt=\"Open In Colab\"/></a>"
      ]
    },
    {
      "cell_type": "code",
      "source": [
        "import pandas as pd\n",
        "import datetime\n",
        "\n",
        "def generate_carbon_credit_dataset(start_date, end_date, num_motorcycles, distance_km, petrol_emission_factor_kg_per_km):\n",
        "    \"\"\"\n",
        "    Generates a dataset for calculating carbon credits based on electric motorcycle usage.\n",
        "\n",
        "    Args:\n",
        "        start_date (str): The start date for the dataset (YYYY-MM-DD).\n",
        "        end_date (str): The end date for the dataset (YYYY-MM-DD).\n",
        "        num_motorcycles (int): The number of electric motorcycles.\n",
        "        distance_km (int): The distance traveled by each motorcycle per day (km).\n",
        "        petrol_emission_factor_kg_per_km (float): The baseline emission factor for a petrol motorcycle (kg CO2/km).\n",
        "\n",
        "    Returns:\n",
        "        pandas.DataFrame: A DataFrame containing the generated dataset.  Returns empty dataframe on error.\n",
        "    \"\"\"\n",
        "    try:\n",
        "        # Convert start and end dates to datetime objects\n",
        "        start_date = datetime.datetime.strptime(start_date, '%Y-%m-%d').date()\n",
        "        end_date = datetime.datetime.strptime(end_date, '%Y-%m-%d').date()\n",
        "    except ValueError:\n",
        "        print(\"Error: Invalid date format. Please use YYYY-MM-DD.\")\n",
        "        return pd.DataFrame()  # Return an empty DataFrame on error\n",
        "\n",
        "    # Calculate the number of days\n",
        "    num_days = (end_date - start_date).days + 1\n",
        "\n",
        "    # Create an empty list to store the data\n",
        "    data = []\n",
        "\n",
        "    # Generate data for each motorcycle and each day\n",
        "    for i in range(1, num_motorcycles + 1):\n",
        "        motorcycle_id = f\"MC{i:03d}\"  # Format motorcycle ID (e.g., MC001, MC002, ...)\n",
        "        current_date = start_date\n",
        "        for _ in range(num_days):\n",
        "            avoided_co2_kg = distance_km * petrol_emission_factor_kg_per_km\n",
        "            data.append({\n",
        "                'date': current_date,\n",
        "                'motorcycle_id': motorcycle_id,\n",
        "                'distance_km': distance_km,\n",
        "                'petrol_emission_factor_kg_per_km': petrol_emission_factor_kg_per_km,\n",
        "                'avoided_co2_kg': avoided_co2_kg\n",
        "            })\n",
        "            current_date += datetime.timedelta(days=1)\n",
        "\n",
        "    # Create a pandas DataFrame from the list of data\n",
        "    df = pd.DataFrame(data)\n",
        "    return df\n",
        "\n",
        "def main():\n",
        "    \"\"\"\n",
        "    Main function to generate the carbon credit dataset and save it to a CSV file.\n",
        "    \"\"\"\n",
        "    start_date = '2023-01-01'\n",
        "    end_date = '2025-05-04'\n",
        "    num_motorcycles = 120\n",
        "    distance_km = 100\n",
        "    petrol_emission_factor_kg_per_km = 0.07\n",
        "\n",
        "    # Generate the dataset\n",
        "    df = generate_carbon_credit_dataset(start_date, end_date, num_motorcycles, distance_km, petrol_emission_factor_kg_per_km)\n",
        "\n",
        "    # Check if the dataframe is empty before saving.\n",
        "    if df.empty:\n",
        "        print(\"Error: Dataset generation failed.  No CSV file will be saved.\")\n",
        "        return\n",
        "\n",
        "    # Save the dataset to a CSV file\n",
        "    csv_file_path = 'carbon_credit_dataset.csv'\n",
        "    df.to_csv(csv_file_path, index=False)  # index=False prevents writing the DataFrame index to the CSV\n",
        "    print(f\"Dataset successfully generated and saved to {csv_file_path}\")\n",
        "\n",
        "if __name__ == \"__main__\":\n",
        "    main()"
      ],
      "outputs": [],
      "execution_count": null,
      "metadata": {
        "id": "cxZm3gzyl4q6"
      }
    }
  ],
  "metadata": {
    "colab": {
      "provenance": [],
      "include_colab_link": true
    },
    "kernelspec": {
      "display_name": "Python 3",
      "name": "python3"
    }
  },
  "nbformat": 4,
  "nbformat_minor": 0
}